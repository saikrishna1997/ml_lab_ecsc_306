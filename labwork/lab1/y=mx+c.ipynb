{
 "cells": [
  {
   "cell_type": "code",
   "execution_count": 2,
   "metadata": {},
   "outputs": [
    {
     "data": {
      "text/plain": [
       "3.5"
      ]
     },
     "execution_count": 2,
     "metadata": {},
     "output_type": "execute_result"
    }
   ],
   "source": [
    "import tensorflow as tf\n",
    "a = tf.constant([1.0, 2.0, 3.0, 4.0, 5.0, 6.0])\n",
    "c = tf.reduce_mean(a)\n",
    "sesss=tf.Session()\n",
    "sesss.run(c)"
   ]
  },
  {
   "cell_type": "code",
   "execution_count": 3,
   "metadata": {},
   "outputs": [
    {
     "data": {
      "text/plain": [
       "3.5"
      ]
     },
     "execution_count": 3,
     "metadata": {},
     "output_type": "execute_result"
    }
   ],
   "source": [
    "import tensorflow as tf\n",
    "b = tf.constant([1.0, 2.0, 3.0, 4.0, 5.0, 6.0])\n",
    "d = tf.reduce_mean(b)\n",
    "sesss=tf.Session()\n",
    "sesss.run(d)"
   ]
  },
  {
   "cell_type": "code",
   "execution_count": 6,
   "metadata": {},
   "outputs": [
    {
     "data": {
      "text/plain": [
       "17.5"
      ]
     },
     "execution_count": 6,
     "metadata": {},
     "output_type": "execute_result"
    }
   ],
   "source": [
    "#variance(x)=sum((x−mean(x))2)\n",
    "import tensorflow as tf\n",
    "a = tf.constant([1.0, 2.0, 3.0, 4.0, 5.0, 6.0])\n",
    "c = tf.reduce_mean(a)\n",
    "b = tf.constant([1.0, 2.0, 3.0, 4.0, 5.0, 6.0])\n",
    "d = tf.reduce_mean(b)\n",
    "e = a-c\n",
    "f = e*e\n",
    "g = tf.reduce_mean(f)*6\n",
    "sesss=tf.Session()\n",
    "sesss.run(g)\n"
   ]
  },
  {
   "cell_type": "code",
   "execution_count": 15,
   "metadata": {},
   "outputs": [
    {
     "data": {
      "text/plain": [
       "17.5"
      ]
     },
     "execution_count": 15,
     "metadata": {},
     "output_type": "execute_result"
    }
   ],
   "source": [
    "#Covariance\n",
    "#covariance=sum((x(i)−mean(x))∗(y(i)−mean(y)))\n",
    "import tensorflow as tf\n",
    "a = tf.constant([1.0, 2.0, 3.0, 4.0, 5.0, 6.0])\n",
    "c = tf.reduce_mean(a)\n",
    "b = tf.constant([2.0, 3.0, 4.0, 5.0, 6.0, 7.0])\n",
    "d = tf.reduce_mean(b)\n",
    "e = (a-c)*(b-d)\n",
    "f = tf.reduce_mean(e)*6\n",
    "sesss=tf.Session()\n",
    "sesss.run(f)"
   ]
  },
  {
   "cell_type": "code",
   "execution_count": 21,
   "metadata": {},
   "outputs": [
    {
     "data": {
      "text/plain": [
       "0.42857143"
      ]
     },
     "execution_count": 21,
     "metadata": {},
     "output_type": "execute_result"
    }
   ],
   "source": [
    "#m=covariance(x,y)/variance(x)\n",
    "import tensorflow as tf\n",
    "a = tf.constant([1.0, 2.0, 3.0, 4.0, 5.0, 6.0])\n",
    "c = tf.reduce_mean(a)\n",
    "b = tf.constant([7.0, 6.0, 5.0, 4.0, 8.0, 9.0])\n",
    "d = tf.reduce_mean(b)\n",
    "#Variance\n",
    "e = a-c\n",
    "f = e*e\n",
    "var = tf.reduce_mean(f)*6\n",
    "#Co-Variance\n",
    "l = (a-c)*(b-d)\n",
    "cov = tf.reduce_mean(l)*6\n",
    "#m=covariance(x,y)/variance(x)\n",
    "m=tf.div(cov,var)\n",
    "sesss=tf.Session()\n",
    "sesss.run(m)"
   ]
  },
  {
   "cell_type": "code",
   "execution_count": 23,
   "metadata": {},
   "outputs": [
    {
     "data": {
      "text/plain": [
       "5.0"
      ]
     },
     "execution_count": 23,
     "metadata": {},
     "output_type": "execute_result"
    }
   ],
   "source": [
    "#c=mean(y)−m∗mean(x)\n",
    "import tensorflow as tf\n",
    "a = tf.constant([1.0, 2.0, 3.0, 4.0, 5.0, 6.0])\n",
    "c = tf.reduce_mean(a)\n",
    "b = tf.constant([7.0, 6.0, 5.0, 4.0, 8.0, 9.0])\n",
    "d = tf.reduce_mean(b)\n",
    "#Variance\n",
    "e = a-c\n",
    "f = e*e\n",
    "var = tf.reduce_mean(f)*6\n",
    "#Co-Variance\n",
    "l = (a-c)*(b-d)\n",
    "cov = tf.reduce_mean(l)*6\n",
    "#m=covariance(x,y)/variance(x)\n",
    "m=tf.div(cov,var)\n",
    "\n",
    "\n",
    "##c=mean(y)−m∗mean(x)\n",
    "r = d-m*c\n",
    "\n",
    "sesss=tf.Session()\n",
    "sesss.run(r)"
   ]
  },
  {
   "cell_type": "code",
   "execution_count": 27,
   "metadata": {},
   "outputs": [
    {
     "name": "stdout",
     "output_type": "stream",
     "text": [
      "5.0\n"
     ]
    }
   ],
   "source": [
    "import tensorflow as tf\n",
    "tf.reset_default_graph()\n",
    "a = tf.constant([1.0, 2.0, 3.0, 4.0, 5.0, 6.0])\n",
    "b = tf.constant([7.0, 6.0, 5.0, 4.0, 8.0, 9.0])\n",
    "with tf.name_scope(\"Mean_X_and_Y\"):\n",
    "    with tf.name_scope(\"Mean_X\"):   \n",
    "        c = tf.reduce_mean(a)\n",
    "    with tf.name_scope(\"Mean_Y\"):\n",
    "        d = tf.reduce_mean(b)\n",
    "with tf.name_scope(\"Variance\"):\n",
    "    e = a-c\n",
    "    f = e*e\n",
    "    var = tf.reduce_mean(f)*6\n",
    "with tf.name_scope(\"Co-Variance\"):\n",
    "    l = (a-c)*(b-d)\n",
    "    cov = tf.reduce_mean(l)*6\n",
    "with tf.name_scope(\"M\"):\n",
    "    m=tf.div(cov,var)\n",
    "with tf.name_scope(\"C\"):\n",
    "    r = d-m*c\n",
    "with tf.Session() as sess:\n",
    "    writer = tf.summary.FileWriter(\"/tmp/tboard/output3\", sess.graph)\n",
    "    print(sess.run(r))\n",
    "    writer.close()"
   ]
  },
  {
   "cell_type": "code",
   "execution_count": null,
   "metadata": {
    "collapsed": true
   },
   "outputs": [],
   "source": []
  }
 ],
 "metadata": {
  "kernelspec": {
   "display_name": "Python 3",
   "language": "python",
   "name": "python3"
  },
  "language_info": {
   "codemirror_mode": {
    "name": "ipython",
    "version": 3
   },
   "file_extension": ".py",
   "mimetype": "text/x-python",
   "name": "python",
   "nbconvert_exporter": "python",
   "pygments_lexer": "ipython3",
   "version": "3.6.1"
  }
 },
 "nbformat": 4,
 "nbformat_minor": 2
}
