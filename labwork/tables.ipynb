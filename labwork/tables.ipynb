{
 "cells": [
  {
   "cell_type": "code",
   "execution_count": 8,
   "metadata": {},
   "outputs": [
    {
     "name": "stdout",
     "output_type": "stream",
     "text": [
      "Enter the number:100\n",
      "100 * 1 =  100\n",
      "100 * 2 =  200\n",
      "100 * 3 =  300\n",
      "100 * 4 =  400\n",
      "100 * 5 =  500\n",
      "100 * 6 =  600\n",
      "100 * 7 =  700\n",
      "100 * 8 =  800\n",
      "100 * 9 =  900\n",
      "100 * 10 =  1000\n"
     ]
    }
   ],
   "source": [
    "import tensorflow as tf\n",
    "number=int(input(\"Enter the number:\"))\n",
    "for i in range(1,11):\n",
    "    tab=tf.multiply(number,i);\n",
    "    with tf.Session() as sess:\n",
    "        writer = tf.summary.FileWriter(\"/tmp/tboard/output9\", sess.graph)\n",
    "        print(\"%d * %d = \"%(number,i),sess.run(tab))\n",
    "        #print(sess.run(tab))\n",
    "        writer.close()"
   ]
  },
  {
   "cell_type": "code",
   "execution_count": null,
   "metadata": {
    "collapsed": true
   },
   "outputs": [],
   "source": []
  },
  {
   "cell_type": "code",
   "execution_count": null,
   "metadata": {
    "collapsed": true
   },
   "outputs": [],
   "source": []
  }
 ],
 "metadata": {
  "kernelspec": {
   "display_name": "Python 3",
   "language": "python",
   "name": "python3"
  },
  "language_info": {
   "codemirror_mode": {
    "name": "ipython",
    "version": 3
   },
   "file_extension": ".py",
   "mimetype": "text/x-python",
   "name": "python",
   "nbconvert_exporter": "python",
   "pygments_lexer": "ipython3",
   "version": "3.6.1"
  }
 },
 "nbformat": 4,
 "nbformat_minor": 2
}
